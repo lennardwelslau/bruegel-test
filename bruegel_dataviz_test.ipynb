{
 "cells": [
  {
   "cell_type": "markdown",
   "id": "d9881ee5-0f5a-48c1-8926-ac3f0d070a1a",
   "metadata": {},
   "source": [
    "**Test Notebook**"
   ]
  },
  {
   "cell_type": "code",
   "execution_count": 1,
   "id": "c94ebe3c-db80-4c3a-a18b-9da9c0943961",
   "metadata": {},
   "outputs": [
    {
     "name": "stdout",
     "output_type": "stream",
     "text": [
      "Hello Bruegel!\n"
     ]
    }
   ],
   "source": [
    "print(\"Hello Bruegel!\")"
   ]
  },
  {
   "cell_type": "code",
   "execution_count": null,
   "id": "324a3221-862a-433c-83e5-76224bee2a5e",
   "metadata": {},
   "outputs": [],
   "source": []
  }
 ],
 "metadata": {
  "kernelspec": {
   "display_name": "Python 3 (ipykernel)",
   "language": "python",
   "name": "python3"
  },
  "language_info": {
   "codemirror_mode": {
    "name": "ipython",
    "version": 3
   },
   "file_extension": ".py",
   "mimetype": "text/x-python",
   "name": "python",
   "nbconvert_exporter": "python",
   "pygments_lexer": "ipython3",
   "version": "3.9.12"
  }
 },
 "nbformat": 4,
 "nbformat_minor": 5
}
