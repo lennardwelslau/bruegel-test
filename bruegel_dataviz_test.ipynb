{
 "cells": [
  {
   "cell_type": "markdown",
   "id": "d9881ee5-0f5a-48c1-8926-ac3f0d070a1a",
   "metadata": {},
   "source": [
    "**Test Notebook**"
   ]
  },
  {
   "cell_type": "code",
   "execution_count": 1,
   "id": "c94ebe3c-db80-4c3a-a18b-9da9c0943961",
   "metadata": {},
   "outputs": [
    {
     "name": "stdout",
     "output_type": "stream",
     "text": [
      "Hello Bruegel!\n"
     ]
    }
   ],
   "source": [
    "print(\"Hello Bruegel!\")"
   ]
  },
  {
   "cell_type": "code",
   "execution_count": 19,
   "id": "bf6402df-e0b2-46b3-a98b-3ade9f2a80b1",
   "metadata": {},
   "outputs": [],
   "source": [
    "import pandas as pd\n",
    "import plotly.graph_objects as go"
   ]
  },
  {
   "cell_type": "code",
   "execution_count": 28,
   "id": "3518cb56-39ac-4e25-b00c-2b758c83ee05",
   "metadata": {},
   "outputs": [],
   "source": [
    "# read csvs as pandas dataframes\n",
    "factors = pd.read_csv(\"data/factors_data.csv\")\n",
    "inflation = pd.read_csv(\"data/inflation_data.csv\")\n",
    "quadrants = pd.read_csv(\"data/quadrants_data.csv\")"
   ]
  },
  {
   "cell_type": "code",
   "execution_count": 56,
   "id": "883c8a35-9ca5-4a48-9976-81cf1ec312e0",
   "metadata": {},
   "outputs": [],
   "source": [
    "bruegel_colors = [\n",
    "    \"#60bbce\", \"#0080c7\", \"#30368B\", \"#7974ff\", \"#692dc3\", \"#ac2ff2\", \"#a21636\", \"#58a944\", \"#417e3c\", \"#e7bc59\", \"#eb8d06\"\n",
    "]"
   ]
  },
  {
   "cell_type": "code",
   "execution_count": 81,
   "id": "8f003512-9a9d-4be5-b59f-f4522abedd7e",
   "metadata": {},
   "outputs": [
    {
     "data": {
      "application/vnd.plotly.v1+json": {
       "config": {
        "plotlyServerURL": "https://plot.ly"
       },
       "data": [
        {
         "alignmentgroup": "True",
         "hovertemplate": "variable=Water, electricity, gas and other fuels<br>index=%{x}<br>value=%{y}<extra></extra>",
         "legendgroup": "Water, electricity, gas and other fuels",
         "marker": {
          "color": "#60bbce",
          "pattern": {
           "shape": ""
          }
         },
         "name": "Water, electricity, gas and other fuels",
         "offsetgroup": "Water, electricity, gas and other fuels",
         "orientation": "v",
         "showlegend": true,
         "textposition": "auto",
         "type": "bar",
         "x": [
          "2019M01",
          "2019M02",
          "2019M03",
          "2019M04",
          "2019M05",
          "2019M06",
          "2019M07",
          "2019M08",
          "2019M09",
          "2019M10",
          "2019M11",
          "2019M12",
          "2020M01",
          "2020M02",
          "2020M03",
          "2020M04",
          "2020M05",
          "2020M06",
          "2020M07",
          "2020M08",
          "2020M09",
          "2020M10",
          "2020M11",
          "2020M12",
          "2021M01",
          "2021M02",
          "2021M03",
          "2021M04",
          "2021M05",
          "2021M06",
          "2021M07",
          "2021M08",
          "2021M09",
          "2021M10",
          "2021M11",
          "2021M12",
          "2022M01",
          "2022M02",
          "2022M03",
          "2022M04",
          "2022M05",
          "2022M06",
          "2022M07",
          "2022M08"
         ],
         "xaxis": "x",
         "y": [
          0.05,
          0.12,
          0.02,
          0.03,
          -0.06,
          -0.1,
          -0.11,
          -0.14,
          -0.18,
          -0.14,
          -0.12,
          -0.07,
          -0.11,
          -0.22,
          -0.19,
          -0.27,
          -0.23,
          -0.21,
          -0.09,
          -0.09,
          -0.07,
          -0.11,
          -0.2,
          -0.18,
          -0.15,
          -0.01,
          0.03,
          0.1,
          0.15,
          0.2,
          0.36,
          0.42,
          0.46,
          0.81,
          1,
          0.92,
          1.69,
          1.29,
          1.31,
          2.06,
          1.78,
          1.68,
          1.72,
          1.8
         ],
         "yaxis": "y"
        },
        {
         "alignmentgroup": "True",
         "hovertemplate": "variable=Clothing and footwear<br>index=%{x}<br>value=%{y}<extra></extra>",
         "legendgroup": "Clothing and footwear",
         "marker": {
          "color": "#0080c7",
          "pattern": {
           "shape": ""
          }
         },
         "name": "Clothing and footwear",
         "offsetgroup": "Clothing and footwear",
         "orientation": "v",
         "showlegend": true,
         "textposition": "auto",
         "type": "bar",
         "x": [
          "2019M01",
          "2019M02",
          "2019M03",
          "2019M04",
          "2019M05",
          "2019M06",
          "2019M07",
          "2019M08",
          "2019M09",
          "2019M10",
          "2019M11",
          "2019M12",
          "2020M01",
          "2020M02",
          "2020M03",
          "2020M04",
          "2020M05",
          "2020M06",
          "2020M07",
          "2020M08",
          "2020M09",
          "2020M10",
          "2020M11",
          "2020M12",
          "2021M01",
          "2021M02",
          "2021M03",
          "2021M04",
          "2021M05",
          "2021M06",
          "2021M07",
          "2021M08",
          "2021M09",
          "2021M10",
          "2021M11",
          "2021M12",
          "2022M01",
          "2022M02",
          "2022M03",
          "2022M04",
          "2022M05",
          "2022M06",
          "2022M07",
          "2022M08"
         ],
         "xaxis": "x",
         "y": [
          -0.03,
          0.03,
          0.06,
          0.08,
          0.07,
          0.09,
          0.05,
          0.05,
          0.06,
          0.05,
          0.05,
          0.05,
          0.09,
          0.03,
          0.02,
          0.03,
          0.05,
          -0.02,
          -0.02,
          -0.01,
          0.01,
          0.04,
          0.05,
          0.06,
          -0.04,
          0.01,
          0.05,
          0.04,
          -0.02,
          0,
          0.01,
          0.01,
          0.02,
          0,
          -0.02,
          -0.04,
          0.01,
          0.02,
          -0.02,
          -0.03,
          -0.03,
          -0.03,
          -0.08,
          -0.07
         ],
         "yaxis": "y"
        },
        {
         "alignmentgroup": "True",
         "hovertemplate": "variable=Other<br>index=%{x}<br>value=%{y}<extra></extra>",
         "legendgroup": "Other",
         "marker": {
          "color": "#30368B",
          "pattern": {
           "shape": ""
          }
         },
         "name": "Other",
         "offsetgroup": "Other",
         "orientation": "v",
         "showlegend": true,
         "textposition": "auto",
         "type": "bar",
         "x": [
          "2019M01",
          "2019M02",
          "2019M03",
          "2019M04",
          "2019M05",
          "2019M06",
          "2019M07",
          "2019M08",
          "2019M09",
          "2019M10",
          "2019M11",
          "2019M12",
          "2020M01",
          "2020M02",
          "2020M03",
          "2020M04",
          "2020M05",
          "2020M06",
          "2020M07",
          "2020M08",
          "2020M09",
          "2020M10",
          "2020M11",
          "2020M12",
          "2021M01",
          "2021M02",
          "2021M03",
          "2021M04",
          "2021M05",
          "2021M06",
          "2021M07",
          "2021M08",
          "2021M09",
          "2021M10",
          "2021M11",
          "2021M12",
          "2022M01",
          "2022M02",
          "2022M03",
          "2022M04",
          "2022M05",
          "2022M06",
          "2022M07",
          "2022M08"
         ],
         "xaxis": "x",
         "y": [
          -0.2,
          -0.06,
          -0.16,
          -0.19,
          -0.07,
          -0.04,
          0.23,
          0.08,
          -0.05,
          -0.07,
          -0.06,
          0.03,
          -0.18,
          -0.18,
          0.03,
          -0.09,
          -0.01,
          0.16,
          -0.03,
          0.23,
          0.05,
          0.03,
          -0.02,
          0.01,
          0.16,
          0.04,
          0.04,
          0.17,
          0.11,
          -0.12,
          -0.13,
          -0.04,
          -0.23,
          -0.25,
          -0.17,
          -0.18,
          -0.39,
          -0.41,
          -0.59,
          -0.87,
          -0.95,
          -1.07,
          -1.02,
          -1.25
         ],
         "yaxis": "y"
        },
        {
         "alignmentgroup": "True",
         "hovertemplate": "variable=Food and non-alcoholic beverages<br>index=%{x}<br>value=%{y}<extra></extra>",
         "legendgroup": "Food and non-alcoholic beverages",
         "marker": {
          "color": "#7974ff",
          "pattern": {
           "shape": ""
          }
         },
         "name": "Food and non-alcoholic beverages",
         "offsetgroup": "Food and non-alcoholic beverages",
         "orientation": "v",
         "showlegend": true,
         "textposition": "auto",
         "type": "bar",
         "x": [
          "2019M01",
          "2019M02",
          "2019M03",
          "2019M04",
          "2019M05",
          "2019M06",
          "2019M07",
          "2019M08",
          "2019M09",
          "2019M10",
          "2019M11",
          "2019M12",
          "2020M01",
          "2020M02",
          "2020M03",
          "2020M04",
          "2020M05",
          "2020M06",
          "2020M07",
          "2020M08",
          "2020M09",
          "2020M10",
          "2020M11",
          "2020M12",
          "2021M01",
          "2021M02",
          "2021M03",
          "2021M04",
          "2021M05",
          "2021M06",
          "2021M07",
          "2021M08",
          "2021M09",
          "2021M10",
          "2021M11",
          "2021M12",
          "2022M01",
          "2022M02",
          "2022M03",
          "2022M04",
          "2022M05",
          "2022M06",
          "2022M07",
          "2022M08"
         ],
         "xaxis": "x",
         "y": [
          -0.02,
          -0.01,
          -0.02,
          -0.01,
          -0.01,
          -0.03,
          -0.03,
          -0.03,
          -0.02,
          -0.02,
          -0.02,
          -0.01,
          -0.01,
          -0.02,
          -0.02,
          -0.03,
          -0.02,
          -0.01,
          -0.01,
          -0.01,
          0,
          -0.01,
          -0.01,
          0,
          0,
          0,
          0.01,
          0,
          0,
          0,
          -0.01,
          -0.01,
          -0.02,
          -0.01,
          -0.02,
          -0.02,
          -0.04,
          -0.06,
          -0.07,
          -0.08,
          -0.11,
          -0.14,
          -0.16,
          -0.17
         ],
         "yaxis": "y"
        },
        {
         "alignmentgroup": "True",
         "hovertemplate": "variable=Housing (rentals and repairs)<br>index=%{x}<br>value=%{y}<extra></extra>",
         "legendgroup": "Housing (rentals and repairs)",
         "marker": {
          "color": "#692dc3",
          "pattern": {
           "shape": ""
          }
         },
         "name": "Housing (rentals and repairs)",
         "offsetgroup": "Housing (rentals and repairs)",
         "orientation": "v",
         "showlegend": true,
         "textposition": "auto",
         "type": "bar",
         "x": [
          "2019M01",
          "2019M02",
          "2019M03",
          "2019M04",
          "2019M05",
          "2019M06",
          "2019M07",
          "2019M08",
          "2019M09",
          "2019M10",
          "2019M11",
          "2019M12",
          "2020M01",
          "2020M02",
          "2020M03",
          "2020M04",
          "2020M05",
          "2020M06",
          "2020M07",
          "2020M08",
          "2020M09",
          "2020M10",
          "2020M11",
          "2020M12",
          "2021M01",
          "2021M02",
          "2021M03",
          "2021M04",
          "2021M05",
          "2021M06",
          "2021M07",
          "2021M08",
          "2021M09",
          "2021M10",
          "2021M11",
          "2021M12",
          "2022M01",
          "2022M02",
          "2022M03",
          "2022M04",
          "2022M05",
          "2022M06",
          "2022M07",
          "2022M08"
         ],
         "xaxis": "x",
         "y": [
          0.28,
          0.21,
          0.21,
          0.21,
          0.21,
          0.21,
          0.21,
          0.21,
          0.21,
          0.21,
          0.21,
          0.21,
          0.21,
          0.23,
          0.23,
          0.23,
          0.23,
          0.23,
          0.23,
          0.23,
          0.23,
          0.23,
          0.23,
          0.23,
          0.23,
          0.32,
          0.32,
          0.32,
          0.32,
          0.32,
          0.32,
          0.32,
          0.32,
          0.32,
          0.32,
          0.32,
          0.32,
          0.4,
          0.4,
          0.4,
          0.49,
          0.49,
          0.49,
          0.56
         ],
         "yaxis": "y"
        },
        {
         "alignmentgroup": "True",
         "hovertemplate": "variable=Transport<br>index=%{x}<br>value=%{y}<extra></extra>",
         "legendgroup": "Transport",
         "marker": {
          "color": "#ac2ff2",
          "pattern": {
           "shape": ""
          }
         },
         "name": "Transport",
         "offsetgroup": "Transport",
         "orientation": "v",
         "showlegend": true,
         "textposition": "auto",
         "type": "bar",
         "x": [
          "2019M01",
          "2019M02",
          "2019M03",
          "2019M04",
          "2019M05",
          "2019M06",
          "2019M07",
          "2019M08",
          "2019M09",
          "2019M10",
          "2019M11",
          "2019M12",
          "2020M01",
          "2020M02",
          "2020M03",
          "2020M04",
          "2020M05",
          "2020M06",
          "2020M07",
          "2020M08",
          "2020M09",
          "2020M10",
          "2020M11",
          "2020M12",
          "2021M01",
          "2021M02",
          "2021M03",
          "2021M04",
          "2021M05",
          "2021M06",
          "2021M07",
          "2021M08",
          "2021M09",
          "2021M10",
          "2021M11",
          "2021M12",
          "2022M01",
          "2022M02",
          "2022M03",
          "2022M04",
          "2022M05",
          "2022M06",
          "2022M07",
          "2022M08"
         ],
         "xaxis": "x",
         "y": [
          -0.04,
          -0.13,
          -0.19,
          -0.19,
          -0.07,
          0.07,
          0.03,
          0.12,
          0.04,
          0.1,
          0.04,
          -0.15,
          -0.24,
          -0.1,
          0.17,
          0.49,
          0.51,
          0.26,
          0.1,
          0.05,
          0.03,
          0.04,
          0.11,
          0.04,
          0.01,
          -0.14,
          -0.44,
          -0.7,
          -0.76,
          -0.69,
          -0.7,
          -0.7,
          -0.73,
          -1.01,
          -1.19,
          -0.83,
          -0.85,
          -0.99,
          -1.3,
          -1.37,
          -1.61,
          -1.91,
          -1.61,
          -1.41
         ],
         "yaxis": "y"
        },
        {
         "alignmentgroup": "True",
         "hovertemplate": "variable=Alcoholic beverages, tobacco and narcotics<br>index=%{x}<br>value=%{y}<extra></extra>",
         "legendgroup": "Alcoholic beverages, tobacco and narcotics",
         "marker": {
          "color": "#a21636",
          "pattern": {
           "shape": ""
          }
         },
         "name": "Alcoholic beverages, tobacco and narcotics",
         "offsetgroup": "Alcoholic beverages, tobacco and narcotics",
         "orientation": "v",
         "showlegend": true,
         "textposition": "auto",
         "type": "bar",
         "x": [
          "2019M01",
          "2019M02",
          "2019M03",
          "2019M04",
          "2019M05",
          "2019M06",
          "2019M07",
          "2019M08",
          "2019M09",
          "2019M10",
          "2019M11",
          "2019M12",
          "2020M01",
          "2020M02",
          "2020M03",
          "2020M04",
          "2020M05",
          "2020M06",
          "2020M07",
          "2020M08",
          "2020M09",
          "2020M10",
          "2020M11",
          "2020M12",
          "2021M01",
          "2021M02",
          "2021M03",
          "2021M04",
          "2021M05",
          "2021M06",
          "2021M07",
          "2021M08",
          "2021M09",
          "2021M10",
          "2021M11",
          "2021M12",
          "2022M01",
          "2022M02",
          "2022M03",
          "2022M04",
          "2022M05",
          "2022M06",
          "2022M07",
          "2022M08"
         ],
         "xaxis": "x",
         "y": [
          0,
          0.01,
          0.01,
          0.02,
          0.02,
          0.02,
          0.02,
          0.02,
          0.02,
          0.02,
          0.02,
          0.03,
          0.03,
          0.03,
          0.02,
          0.02,
          0.03,
          0.04,
          0.12,
          0.27,
          0.27,
          0.27,
          0.4,
          0.4,
          0.4,
          0.37,
          0.37,
          0.35,
          0.34,
          0.33,
          0.23,
          0.09,
          0.08,
          0.08,
          -0.03,
          -0.03,
          -0.03,
          0,
          0.01,
          0.11,
          0.1,
          0.1,
          0.1,
          0.11
         ],
         "yaxis": "y"
        },
        {
         "line": {
          "color": "#000000"
         },
         "type": "scatter",
         "x": [
          "2019M01",
          "2019M02",
          "2019M03",
          "2019M04",
          "2019M05",
          "2019M06",
          "2019M07",
          "2019M08",
          "2019M09",
          "2019M10",
          "2019M11",
          "2019M12",
          "2020M01",
          "2020M02",
          "2020M03",
          "2020M04",
          "2020M05",
          "2020M06",
          "2020M07",
          "2020M08",
          "2020M09",
          "2020M10",
          "2020M11",
          "2020M12",
          "2021M01",
          "2021M02",
          "2021M03",
          "2021M04",
          "2021M05",
          "2021M06",
          "2021M07",
          "2021M08",
          "2021M09",
          "2021M10",
          "2021M11",
          "2021M12",
          "2022M01",
          "2022M02",
          "2022M03",
          "2022M04",
          "2022M05",
          "2022M06",
          "2022M07",
          "2022M08"
         ],
         "y": [
          0.05,
          0.16,
          -0.06,
          -0.05,
          0.08,
          0.23,
          0.4,
          0.32,
          0.09,
          0.15,
          0.12,
          0.07,
          -0.21,
          -0.23,
          0.25,
          0.38,
          0.56,
          0.45,
          0.3,
          0.67,
          0.51,
          0.49,
          0.56,
          0.57,
          0.6,
          0.58,
          0.39,
          0.28,
          0.15,
          0.03,
          0.09,
          0.09,
          -0.1,
          -0.06,
          -0.11,
          0.13,
          0.7,
          0.25,
          -0.27,
          0.21,
          -0.32,
          -0.87,
          -0.56,
          -0.43
         ]
        }
       ],
       "layout": {
        "autosize": false,
        "barmode": "relative",
        "height": 500,
        "legend": {
         "title": {
          "text": "variable"
         },
         "tracegroupgap": 0
        },
        "margin": {
         "b": 20,
         "l": 20,
         "pad": 4,
         "r": 100,
         "t": 20
        },
        "plot_bgcolor": "#FFFFFF",
        "template": {
         "data": {
          "bar": [
           {
            "error_x": {
             "color": "#2a3f5f"
            },
            "error_y": {
             "color": "#2a3f5f"
            },
            "marker": {
             "line": {
              "color": "#E5ECF6",
              "width": 0.5
             },
             "pattern": {
              "fillmode": "overlay",
              "size": 10,
              "solidity": 0.2
             }
            },
            "type": "bar"
           }
          ],
          "barpolar": [
           {
            "marker": {
             "line": {
              "color": "#E5ECF6",
              "width": 0.5
             },
             "pattern": {
              "fillmode": "overlay",
              "size": 10,
              "solidity": 0.2
             }
            },
            "type": "barpolar"
           }
          ],
          "carpet": [
           {
            "aaxis": {
             "endlinecolor": "#2a3f5f",
             "gridcolor": "white",
             "linecolor": "white",
             "minorgridcolor": "white",
             "startlinecolor": "#2a3f5f"
            },
            "baxis": {
             "endlinecolor": "#2a3f5f",
             "gridcolor": "white",
             "linecolor": "white",
             "minorgridcolor": "white",
             "startlinecolor": "#2a3f5f"
            },
            "type": "carpet"
           }
          ],
          "choropleth": [
           {
            "colorbar": {
             "outlinewidth": 0,
             "ticks": ""
            },
            "type": "choropleth"
           }
          ],
          "contour": [
           {
            "colorbar": {
             "outlinewidth": 0,
             "ticks": ""
            },
            "colorscale": [
             [
              0,
              "#0d0887"
             ],
             [
              0.1111111111111111,
              "#46039f"
             ],
             [
              0.2222222222222222,
              "#7201a8"
             ],
             [
              0.3333333333333333,
              "#9c179e"
             ],
             [
              0.4444444444444444,
              "#bd3786"
             ],
             [
              0.5555555555555556,
              "#d8576b"
             ],
             [
              0.6666666666666666,
              "#ed7953"
             ],
             [
              0.7777777777777778,
              "#fb9f3a"
             ],
             [
              0.8888888888888888,
              "#fdca26"
             ],
             [
              1,
              "#f0f921"
             ]
            ],
            "type": "contour"
           }
          ],
          "contourcarpet": [
           {
            "colorbar": {
             "outlinewidth": 0,
             "ticks": ""
            },
            "type": "contourcarpet"
           }
          ],
          "heatmap": [
           {
            "colorbar": {
             "outlinewidth": 0,
             "ticks": ""
            },
            "colorscale": [
             [
              0,
              "#0d0887"
             ],
             [
              0.1111111111111111,
              "#46039f"
             ],
             [
              0.2222222222222222,
              "#7201a8"
             ],
             [
              0.3333333333333333,
              "#9c179e"
             ],
             [
              0.4444444444444444,
              "#bd3786"
             ],
             [
              0.5555555555555556,
              "#d8576b"
             ],
             [
              0.6666666666666666,
              "#ed7953"
             ],
             [
              0.7777777777777778,
              "#fb9f3a"
             ],
             [
              0.8888888888888888,
              "#fdca26"
             ],
             [
              1,
              "#f0f921"
             ]
            ],
            "type": "heatmap"
           }
          ],
          "heatmapgl": [
           {
            "colorbar": {
             "outlinewidth": 0,
             "ticks": ""
            },
            "colorscale": [
             [
              0,
              "#0d0887"
             ],
             [
              0.1111111111111111,
              "#46039f"
             ],
             [
              0.2222222222222222,
              "#7201a8"
             ],
             [
              0.3333333333333333,
              "#9c179e"
             ],
             [
              0.4444444444444444,
              "#bd3786"
             ],
             [
              0.5555555555555556,
              "#d8576b"
             ],
             [
              0.6666666666666666,
              "#ed7953"
             ],
             [
              0.7777777777777778,
              "#fb9f3a"
             ],
             [
              0.8888888888888888,
              "#fdca26"
             ],
             [
              1,
              "#f0f921"
             ]
            ],
            "type": "heatmapgl"
           }
          ],
          "histogram": [
           {
            "marker": {
             "pattern": {
              "fillmode": "overlay",
              "size": 10,
              "solidity": 0.2
             }
            },
            "type": "histogram"
           }
          ],
          "histogram2d": [
           {
            "colorbar": {
             "outlinewidth": 0,
             "ticks": ""
            },
            "colorscale": [
             [
              0,
              "#0d0887"
             ],
             [
              0.1111111111111111,
              "#46039f"
             ],
             [
              0.2222222222222222,
              "#7201a8"
             ],
             [
              0.3333333333333333,
              "#9c179e"
             ],
             [
              0.4444444444444444,
              "#bd3786"
             ],
             [
              0.5555555555555556,
              "#d8576b"
             ],
             [
              0.6666666666666666,
              "#ed7953"
             ],
             [
              0.7777777777777778,
              "#fb9f3a"
             ],
             [
              0.8888888888888888,
              "#fdca26"
             ],
             [
              1,
              "#f0f921"
             ]
            ],
            "type": "histogram2d"
           }
          ],
          "histogram2dcontour": [
           {
            "colorbar": {
             "outlinewidth": 0,
             "ticks": ""
            },
            "colorscale": [
             [
              0,
              "#0d0887"
             ],
             [
              0.1111111111111111,
              "#46039f"
             ],
             [
              0.2222222222222222,
              "#7201a8"
             ],
             [
              0.3333333333333333,
              "#9c179e"
             ],
             [
              0.4444444444444444,
              "#bd3786"
             ],
             [
              0.5555555555555556,
              "#d8576b"
             ],
             [
              0.6666666666666666,
              "#ed7953"
             ],
             [
              0.7777777777777778,
              "#fb9f3a"
             ],
             [
              0.8888888888888888,
              "#fdca26"
             ],
             [
              1,
              "#f0f921"
             ]
            ],
            "type": "histogram2dcontour"
           }
          ],
          "mesh3d": [
           {
            "colorbar": {
             "outlinewidth": 0,
             "ticks": ""
            },
            "type": "mesh3d"
           }
          ],
          "parcoords": [
           {
            "line": {
             "colorbar": {
              "outlinewidth": 0,
              "ticks": ""
             }
            },
            "type": "parcoords"
           }
          ],
          "pie": [
           {
            "automargin": true,
            "type": "pie"
           }
          ],
          "scatter": [
           {
            "marker": {
             "colorbar": {
              "outlinewidth": 0,
              "ticks": ""
             }
            },
            "type": "scatter"
           }
          ],
          "scatter3d": [
           {
            "line": {
             "colorbar": {
              "outlinewidth": 0,
              "ticks": ""
             }
            },
            "marker": {
             "colorbar": {
              "outlinewidth": 0,
              "ticks": ""
             }
            },
            "type": "scatter3d"
           }
          ],
          "scattercarpet": [
           {
            "marker": {
             "colorbar": {
              "outlinewidth": 0,
              "ticks": ""
             }
            },
            "type": "scattercarpet"
           }
          ],
          "scattergeo": [
           {
            "marker": {
             "colorbar": {
              "outlinewidth": 0,
              "ticks": ""
             }
            },
            "type": "scattergeo"
           }
          ],
          "scattergl": [
           {
            "marker": {
             "colorbar": {
              "outlinewidth": 0,
              "ticks": ""
             }
            },
            "type": "scattergl"
           }
          ],
          "scattermapbox": [
           {
            "marker": {
             "colorbar": {
              "outlinewidth": 0,
              "ticks": ""
             }
            },
            "type": "scattermapbox"
           }
          ],
          "scatterpolar": [
           {
            "marker": {
             "colorbar": {
              "outlinewidth": 0,
              "ticks": ""
             }
            },
            "type": "scatterpolar"
           }
          ],
          "scatterpolargl": [
           {
            "marker": {
             "colorbar": {
              "outlinewidth": 0,
              "ticks": ""
             }
            },
            "type": "scatterpolargl"
           }
          ],
          "scatterternary": [
           {
            "marker": {
             "colorbar": {
              "outlinewidth": 0,
              "ticks": ""
             }
            },
            "type": "scatterternary"
           }
          ],
          "surface": [
           {
            "colorbar": {
             "outlinewidth": 0,
             "ticks": ""
            },
            "colorscale": [
             [
              0,
              "#0d0887"
             ],
             [
              0.1111111111111111,
              "#46039f"
             ],
             [
              0.2222222222222222,
              "#7201a8"
             ],
             [
              0.3333333333333333,
              "#9c179e"
             ],
             [
              0.4444444444444444,
              "#bd3786"
             ],
             [
              0.5555555555555556,
              "#d8576b"
             ],
             [
              0.6666666666666666,
              "#ed7953"
             ],
             [
              0.7777777777777778,
              "#fb9f3a"
             ],
             [
              0.8888888888888888,
              "#fdca26"
             ],
             [
              1,
              "#f0f921"
             ]
            ],
            "type": "surface"
           }
          ],
          "table": [
           {
            "cells": {
             "fill": {
              "color": "#EBF0F8"
             },
             "line": {
              "color": "white"
             }
            },
            "header": {
             "fill": {
              "color": "#C8D4E3"
             },
             "line": {
              "color": "white"
             }
            },
            "type": "table"
           }
          ]
         },
         "layout": {
          "annotationdefaults": {
           "arrowcolor": "#2a3f5f",
           "arrowhead": 0,
           "arrowwidth": 1
          },
          "autotypenumbers": "strict",
          "coloraxis": {
           "colorbar": {
            "outlinewidth": 0,
            "ticks": ""
           }
          },
          "colorscale": {
           "diverging": [
            [
             0,
             "#8e0152"
            ],
            [
             0.1,
             "#c51b7d"
            ],
            [
             0.2,
             "#de77ae"
            ],
            [
             0.3,
             "#f1b6da"
            ],
            [
             0.4,
             "#fde0ef"
            ],
            [
             0.5,
             "#f7f7f7"
            ],
            [
             0.6,
             "#e6f5d0"
            ],
            [
             0.7,
             "#b8e186"
            ],
            [
             0.8,
             "#7fbc41"
            ],
            [
             0.9,
             "#4d9221"
            ],
            [
             1,
             "#276419"
            ]
           ],
           "sequential": [
            [
             0,
             "#0d0887"
            ],
            [
             0.1111111111111111,
             "#46039f"
            ],
            [
             0.2222222222222222,
             "#7201a8"
            ],
            [
             0.3333333333333333,
             "#9c179e"
            ],
            [
             0.4444444444444444,
             "#bd3786"
            ],
            [
             0.5555555555555556,
             "#d8576b"
            ],
            [
             0.6666666666666666,
             "#ed7953"
            ],
            [
             0.7777777777777778,
             "#fb9f3a"
            ],
            [
             0.8888888888888888,
             "#fdca26"
            ],
            [
             1,
             "#f0f921"
            ]
           ],
           "sequentialminus": [
            [
             0,
             "#0d0887"
            ],
            [
             0.1111111111111111,
             "#46039f"
            ],
            [
             0.2222222222222222,
             "#7201a8"
            ],
            [
             0.3333333333333333,
             "#9c179e"
            ],
            [
             0.4444444444444444,
             "#bd3786"
            ],
            [
             0.5555555555555556,
             "#d8576b"
            ],
            [
             0.6666666666666666,
             "#ed7953"
            ],
            [
             0.7777777777777778,
             "#fb9f3a"
            ],
            [
             0.8888888888888888,
             "#fdca26"
            ],
            [
             1,
             "#f0f921"
            ]
           ]
          },
          "colorway": [
           "#636efa",
           "#EF553B",
           "#00cc96",
           "#ab63fa",
           "#FFA15A",
           "#19d3f3",
           "#FF6692",
           "#B6E880",
           "#FF97FF",
           "#FECB52"
          ],
          "font": {
           "color": "#2a3f5f"
          },
          "geo": {
           "bgcolor": "white",
           "lakecolor": "white",
           "landcolor": "#E5ECF6",
           "showlakes": true,
           "showland": true,
           "subunitcolor": "white"
          },
          "hoverlabel": {
           "align": "left"
          },
          "hovermode": "closest",
          "mapbox": {
           "style": "light"
          },
          "paper_bgcolor": "white",
          "plot_bgcolor": "#E5ECF6",
          "polar": {
           "angularaxis": {
            "gridcolor": "white",
            "linecolor": "white",
            "ticks": ""
           },
           "bgcolor": "#E5ECF6",
           "radialaxis": {
            "gridcolor": "white",
            "linecolor": "white",
            "ticks": ""
           }
          },
          "scene": {
           "xaxis": {
            "backgroundcolor": "#E5ECF6",
            "gridcolor": "white",
            "gridwidth": 2,
            "linecolor": "white",
            "showbackground": true,
            "ticks": "",
            "zerolinecolor": "white"
           },
           "yaxis": {
            "backgroundcolor": "#E5ECF6",
            "gridcolor": "white",
            "gridwidth": 2,
            "linecolor": "white",
            "showbackground": true,
            "ticks": "",
            "zerolinecolor": "white"
           },
           "zaxis": {
            "backgroundcolor": "#E5ECF6",
            "gridcolor": "white",
            "gridwidth": 2,
            "linecolor": "white",
            "showbackground": true,
            "ticks": "",
            "zerolinecolor": "white"
           }
          },
          "shapedefaults": {
           "line": {
            "color": "#2a3f5f"
           }
          },
          "ternary": {
           "aaxis": {
            "gridcolor": "white",
            "linecolor": "white",
            "ticks": ""
           },
           "baxis": {
            "gridcolor": "white",
            "linecolor": "white",
            "ticks": ""
           },
           "bgcolor": "#E5ECF6",
           "caxis": {
            "gridcolor": "white",
            "linecolor": "white",
            "ticks": ""
           }
          },
          "title": {
           "x": 0.05
          },
          "xaxis": {
           "automargin": true,
           "gridcolor": "white",
           "linecolor": "white",
           "ticks": "",
           "title": {
            "standoff": 15
           },
           "zerolinecolor": "white",
           "zerolinewidth": 2
          },
          "yaxis": {
           "automargin": true,
           "gridcolor": "white",
           "linecolor": "white",
           "ticks": "",
           "title": {
            "standoff": 15
           },
           "zerolinecolor": "white",
           "zerolinewidth": 2
          }
         }
        },
        "width": 800,
        "xaxis": {
         "anchor": "y",
         "autorange": true,
         "domain": [
          0,
          1
         ],
         "range": [
          -0.5,
          43.5
         ],
         "title": {
          "text": "index"
         },
         "type": "category"
        },
        "yaxis": {
         "anchor": "x",
         "autorange": true,
         "domain": [
          0,
          1
         ],
         "range": [
          -3.467777777777778,
          2.8877777777777776
         ],
         "title": {
          "text": "value"
         },
         "type": "linear"
        }
       }
      },
      "image/png": "[encoded data removed]",
      "text/html": [
       "<div>                            <div id=\"844217a2-b98b-4d8f-9008-f07ed94e02dc\" class=\"plotly-graph-div\" style=\"height:500px; width:800px;\"></div>            <script type=\"text/javascript\">                require([\"plotly\"], function(Plotly) {                    window.PLOTLYENV=window.PLOTLYENV || {};                                    if (document.getElementById(\"844217a2-b98b-4d8f-9008-f07ed94e02dc\")) {                    Plotly.newPlot(                        \"844217a2-b98b-4d8f-9008-f07ed94e02dc\",                        [{\"alignmentgroup\":\"True\",\"hovertemplate\":\"variable=Water, electricity, gas and other fuels<br>index=%{x}<br>value=%{y}<extra></extra>\",\"legendgroup\":\"Water, electricity, gas and other fuels\",\"marker\":{\"color\":\"#60bbce\",\"pattern\":{\"shape\":\"\"}},\"name\":\"Water, electricity, gas and other fuels\",\"offsetgroup\":\"Water, electricity, gas and other fuels\",\"orientation\":\"v\",\"showlegend\":true,\"textposition\":\"auto\",\"x\":[\"2019M01\",\"2019M02\",\"2019M03\",\"2019M04\",\"2019M05\",\"2019M06\",\"2019M07\",\"2019M08\",\"2019M09\",\"2019M10\",\"2019M11\",\"2019M12\",\"2020M01\",\"2020M02\",\"2020M03\",\"2020M04\",\"2020M05\",\"2020M06\",\"2020M07\",\"2020M08\",\"2020M09\",\"2020M10\",\"2020M11\",\"2020M12\",\"2021M01\",\"2021M02\",\"2021M03\",\"2021M04\",\"2021M05\",\"2021M06\",\"2021M07\",\"2021M08\",\"2021M09\",\"2021M10\",\"2021M11\",\"2021M12\",\"2022M01\",\"2022M02\",\"2022M03\",\"2022M04\",\"2022M05\",\"2022M06\",\"2022M07\",\"2022M08\"],\"xaxis\":\"x\",\"y\":[0.05,0.12,0.02,0.03,-0.06,-0.1,-0.11,-0.14,-0.18,-0.14,-0.12,-0.07,-0.11,-0.22,-0.19,-0.27,-0.23,-0.21,-0.09,-0.09,-0.07,-0.11,-0.2,-0.18,-0.15,-0.01,0.03,0.1,0.15,0.2,0.36,0.42,0.46,0.81,1.0,0.92,1.69,1.29,1.31,2.06,1.78,1.68,1.72,1.8],\"yaxis\":\"y\",\"type\":\"bar\"},{\"alignmentgroup\":\"True\",\"hovertemplate\":\"variable=Clothing and footwear<br>index=%{x}<br>value=%{y}<extra></extra>\",\"legendgroup\":\"Clothing and footwear\",\"marker\":{\"color\":\"#0080c7\",\"pattern\":{\"shape\":\"\"}},\"name\":\"Clothing and footwear\",\"offsetgroup\":\"Clothing and footwear\",\"orientation\":\"v\",\"showlegend\":true,\"textposition\":\"auto\",\"x\":[\"2019M01\",\"2019M02\",\"2019M03\",\"2019M04\",\"2019M05\",\"2019M06\",\"2019M07\",\"2019M08\",\"2019M09\",\"2019M10\",\"2019M11\",\"2019M12\",\"2020M01\",\"2020M02\",\"2020M03\",\"2020M04\",\"2020M05\",\"2020M06\",\"2020M07\",\"2020M08\",\"2020M09\",\"2020M10\",\"2020M11\",\"2020M12\",\"2021M01\",\"2021M02\",\"2021M03\",\"2021M04\",\"2021M05\",\"2021M06\",\"2021M07\",\"2021M08\",\"2021M09\",\"2021M10\",\"2021M11\",\"2021M12\",\"2022M01\",\"2022M02\",\"2022M03\",\"2022M04\",\"2022M05\",\"2022M06\",\"2022M07\",\"2022M08\"],\"xaxis\":\"x\",\"y\":[-0.03,0.03,0.06,0.08,0.07,0.09,0.05,0.05,0.06,0.05,0.05,0.05,0.09,0.03,0.02,0.03,0.05,-0.02,-0.02,-0.01,0.01,0.04,0.05,0.06,-0.04,0.01,0.05,0.04,-0.02,-0.0,0.01,0.01,0.02,-0.0,-0.02,-0.04,0.01,0.02,-0.02,-0.03,-0.03,-0.03,-0.08,-0.07],\"yaxis\":\"y\",\"type\":\"bar\"},{\"alignmentgroup\":\"True\",\"hovertemplate\":\"variable=Other<br>index=%{x}<br>value=%{y}<extra></extra>\",\"legendgroup\":\"Other\",\"marker\":{\"color\":\"#30368B\",\"pattern\":{\"shape\":\"\"}},\"name\":\"Other\",\"offsetgroup\":\"Other\",\"orientation\":\"v\",\"showlegend\":true,\"textposition\":\"auto\",\"x\":[\"2019M01\",\"2019M02\",\"2019M03\",\"2019M04\",\"2019M05\",\"2019M06\",\"2019M07\",\"2019M08\",\"2019M09\",\"2019M10\",\"2019M11\",\"2019M12\",\"2020M01\",\"2020M02\",\"2020M03\",\"2020M04\",\"2020M05\",\"2020M06\",\"2020M07\",\"2020M08\",\"2020M09\",\"2020M10\",\"2020M11\",\"2020M12\",\"2021M01\",\"2021M02\",\"2021M03\",\"2021M04\",\"2021M05\",\"2021M06\",\"2021M07\",\"2021M08\",\"2021M09\",\"2021M10\",\"2021M11\",\"2021M12\",\"2022M01\",\"2022M02\",\"2022M03\",\"2022M04\",\"2022M05\",\"2022M06\",\"2022M07\",\"2022M08\"],\"xaxis\":\"x\",\"y\":[-0.2,-0.06,-0.16,-0.19,-0.07,-0.04,0.23,0.08,-0.05,-0.07,-0.06,0.03,-0.18,-0.18,0.03,-0.09,-0.01,0.16,-0.03,0.23,0.05,0.03,-0.02,0.01,0.16,0.04,0.04,0.17,0.11,-0.12,-0.13,-0.04,-0.23,-0.25,-0.17,-0.18,-0.39,-0.41,-0.59,-0.87,-0.95,-1.07,-1.02,-1.25],\"yaxis\":\"y\",\"type\":\"bar\"},{\"alignmentgroup\":\"True\",\"hovertemplate\":\"variable=Food and non-alcoholic beverages<br>index=%{x}<br>value=%{y}<extra></extra>\",\"legendgroup\":\"Food and non-alcoholic beverages\",\"marker\":{\"color\":\"#7974ff\",\"pattern\":{\"shape\":\"\"}},\"name\":\"Food and non-alcoholic beverages\",\"offsetgroup\":\"Food and non-alcoholic beverages\",\"orientation\":\"v\",\"showlegend\":true,\"textposition\":\"auto\",\"x\":[\"2019M01\",\"2019M02\",\"2019M03\",\"2019M04\",\"2019M05\",\"2019M06\",\"2019M07\",\"2019M08\",\"2019M09\",\"2019M10\",\"2019M11\",\"2019M12\",\"2020M01\",\"2020M02\",\"2020M03\",\"2020M04\",\"2020M05\",\"2020M06\",\"2020M07\",\"2020M08\",\"2020M09\",\"2020M10\",\"2020M11\",\"2020M12\",\"2021M01\",\"2021M02\",\"2021M03\",\"2021M04\",\"2021M05\",\"2021M06\",\"2021M07\",\"2021M08\",\"2021M09\",\"2021M10\",\"2021M11\",\"2021M12\",\"2022M01\",\"2022M02\",\"2022M03\",\"2022M04\",\"2022M05\",\"2022M06\",\"2022M07\",\"2022M08\"],\"xaxis\":\"x\",\"y\":[-0.02,-0.01,-0.02,-0.01,-0.01,-0.03,-0.03,-0.03,-0.02,-0.02,-0.02,-0.01,-0.01,-0.02,-0.02,-0.03,-0.02,-0.01,-0.01,-0.01,-0.0,-0.01,-0.01,-0.0,-0.0,-0.0,0.01,-0.0,0.0,0.0,-0.01,-0.01,-0.02,-0.01,-0.02,-0.02,-0.04,-0.06,-0.07,-0.08,-0.11,-0.14,-0.16,-0.17],\"yaxis\":\"y\",\"type\":\"bar\"},{\"alignmentgroup\":\"True\",\"hovertemplate\":\"variable=Housing (rentals and repairs)<br>index=%{x}<br>value=%{y}<extra></extra>\",\"legendgroup\":\"Housing (rentals and repairs)\",\"marker\":{\"color\":\"#692dc3\",\"pattern\":{\"shape\":\"\"}},\"name\":\"Housing (rentals and repairs)\",\"offsetgroup\":\"Housing (rentals and repairs)\",\"orientation\":\"v\",\"showlegend\":true,\"textposition\":\"auto\",\"x\":[\"2019M01\",\"2019M02\",\"2019M03\",\"2019M04\",\"2019M05\",\"2019M06\",\"2019M07\",\"2019M08\",\"2019M09\",\"2019M10\",\"2019M11\",\"2019M12\",\"2020M01\",\"2020M02\",\"2020M03\",\"2020M04\",\"2020M05\",\"2020M06\",\"2020M07\",\"2020M08\",\"2020M09\",\"2020M10\",\"2020M11\",\"2020M12\",\"2021M01\",\"2021M02\",\"2021M03\",\"2021M04\",\"2021M05\",\"2021M06\",\"2021M07\",\"2021M08\",\"2021M09\",\"2021M10\",\"2021M11\",\"2021M12\",\"2022M01\",\"2022M02\",\"2022M03\",\"2022M04\",\"2022M05\",\"2022M06\",\"2022M07\",\"2022M08\"],\"xaxis\":\"x\",\"y\":[0.28,0.21,0.21,0.21,0.21,0.21,0.21,0.21,0.21,0.21,0.21,0.21,0.21,0.23,0.23,0.23,0.23,0.23,0.23,0.23,0.23,0.23,0.23,0.23,0.23,0.32,0.32,0.32,0.32,0.32,0.32,0.32,0.32,0.32,0.32,0.32,0.32,0.4,0.4,0.4,0.49,0.49,0.49,0.56],\"yaxis\":\"y\",\"type\":\"bar\"},{\"alignmentgroup\":\"True\",\"hovertemplate\":\"variable=Transport<br>index=%{x}<br>value=%{y}<extra></extra>\",\"legendgroup\":\"Transport\",\"marker\":{\"color\":\"#ac2ff2\",\"pattern\":{\"shape\":\"\"}},\"name\":\"Transport\",\"offsetgroup\":\"Transport\",\"orientation\":\"v\",\"showlegend\":true,\"textposition\":\"auto\",\"x\":[\"2019M01\",\"2019M02\",\"2019M03\",\"2019M04\",\"2019M05\",\"2019M06\",\"2019M07\",\"2019M08\",\"2019M09\",\"2019M10\",\"2019M11\",\"2019M12\",\"2020M01\",\"2020M02\",\"2020M03\",\"2020M04\",\"2020M05\",\"2020M06\",\"2020M07\",\"2020M08\",\"2020M09\",\"2020M10\",\"2020M11\",\"2020M12\",\"2021M01\",\"2021M02\",\"2021M03\",\"2021M04\",\"2021M05\",\"2021M06\",\"2021M07\",\"2021M08\",\"2021M09\",\"2021M10\",\"2021M11\",\"2021M12\",\"2022M01\",\"2022M02\",\"2022M03\",\"2022M04\",\"2022M05\",\"2022M06\",\"2022M07\",\"2022M08\"],\"xaxis\":\"x\",\"y\":[-0.04,-0.13,-0.19,-0.19,-0.07,0.07,0.03,0.12,0.04,0.1,0.04,-0.15,-0.24,-0.1,0.17,0.49,0.51,0.26,0.1,0.05,0.03,0.04,0.11,0.04,0.01,-0.14,-0.44,-0.7,-0.76,-0.69,-0.7,-0.7,-0.73,-1.01,-1.19,-0.83,-0.85,-0.99,-1.3,-1.37,-1.61,-1.91,-1.61,-1.41],\"yaxis\":\"y\",\"type\":\"bar\"},{\"alignmentgroup\":\"True\",\"hovertemplate\":\"variable=Alcoholic beverages, tobacco and narcotics<br>index=%{x}<br>value=%{y}<extra></extra>\",\"legendgroup\":\"Alcoholic beverages, tobacco and narcotics\",\"marker\":{\"color\":\"#a21636\",\"pattern\":{\"shape\":\"\"}},\"name\":\"Alcoholic beverages, tobacco and narcotics\",\"offsetgroup\":\"Alcoholic beverages, tobacco and narcotics\",\"orientation\":\"v\",\"showlegend\":true,\"textposition\":\"auto\",\"x\":[\"2019M01\",\"2019M02\",\"2019M03\",\"2019M04\",\"2019M05\",\"2019M06\",\"2019M07\",\"2019M08\",\"2019M09\",\"2019M10\",\"2019M11\",\"2019M12\",\"2020M01\",\"2020M02\",\"2020M03\",\"2020M04\",\"2020M05\",\"2020M06\",\"2020M07\",\"2020M08\",\"2020M09\",\"2020M10\",\"2020M11\",\"2020M12\",\"2021M01\",\"2021M02\",\"2021M03\",\"2021M04\",\"2021M05\",\"2021M06\",\"2021M07\",\"2021M08\",\"2021M09\",\"2021M10\",\"2021M11\",\"2021M12\",\"2022M01\",\"2022M02\",\"2022M03\",\"2022M04\",\"2022M05\",\"2022M06\",\"2022M07\",\"2022M08\"],\"xaxis\":\"x\",\"y\":[0.0,0.01,0.01,0.02,0.02,0.02,0.02,0.02,0.02,0.02,0.02,0.03,0.03,0.03,0.02,0.02,0.03,0.04,0.12,0.27,0.27,0.27,0.4,0.4,0.4,0.37,0.37,0.35,0.34,0.33,0.23,0.09,0.08,0.08,-0.03,-0.03,-0.03,-0.0,0.01,0.11,0.1,0.1,0.1,0.11],\"yaxis\":\"y\",\"type\":\"bar\"},{\"line\":{\"color\":\"#000000\"},\"x\":[\"2019M01\",\"2019M02\",\"2019M03\",\"2019M04\",\"2019M05\",\"2019M06\",\"2019M07\",\"2019M08\",\"2019M09\",\"2019M10\",\"2019M11\",\"2019M12\",\"2020M01\",\"2020M02\",\"2020M03\",\"2020M04\",\"2020M05\",\"2020M06\",\"2020M07\",\"2020M08\",\"2020M09\",\"2020M10\",\"2020M11\",\"2020M12\",\"2021M01\",\"2021M02\",\"2021M03\",\"2021M04\",\"2021M05\",\"2021M06\",\"2021M07\",\"2021M08\",\"2021M09\",\"2021M10\",\"2021M11\",\"2021M12\",\"2022M01\",\"2022M02\",\"2022M03\",\"2022M04\",\"2022M05\",\"2022M06\",\"2022M07\",\"2022M08\"],\"y\":[0.05,0.16,-0.06,-0.05,0.08,0.23,0.4,0.32,0.09,0.15,0.12,0.07,-0.21,-0.23,0.25,0.38,0.56,0.45,0.3,0.67,0.51,0.49,0.56,0.57,0.6,0.58,0.39,0.28,0.15,0.03,0.09,0.09,-0.1,-0.06,-0.11,0.13,0.7,0.25,-0.27,0.21,-0.32,-0.87,-0.56,-0.43],\"type\":\"scatter\"}],                        {\"template\":{\"data\":{\"bar\":[{\"error_x\":{\"color\":\"#2a3f5f\"},\"error_y\":{\"color\":\"#2a3f5f\"},\"marker\":{\"line\":{\"color\":\"#E5ECF6\",\"width\":0.5},\"pattern\":{\"fillmode\":\"overlay\",\"size\":10,\"solidity\":0.2}},\"type\":\"bar\"}],\"barpolar\":[{\"marker\":{\"line\":{\"color\":\"#E5ECF6\",\"width\":0.5},\"pattern\":{\"fillmode\":\"overlay\",\"size\":10,\"solidity\":0.2}},\"type\":\"barpolar\"}],\"carpet\":[{\"aaxis\":{\"endlinecolor\":\"#2a3f5f\",\"gridcolor\":\"white\",\"linecolor\":\"white\",\"minorgridcolor\":\"white\",\"startlinecolor\":\"#2a3f5f\"},\"baxis\":{\"endlinecolor\":\"#2a3f5f\",\"gridcolor\":\"white\",\"linecolor\":\"white\",\"minorgridcolor\":\"white\",\"startlinecolor\":\"#2a3f5f\"},\"type\":\"carpet\"}],\"choropleth\":[{\"colorbar\":{\"outlinewidth\":0,\"ticks\":\"\"},\"type\":\"choropleth\"}],\"contour\":[{\"colorbar\":{\"outlinewidth\":0,\"ticks\":\"\"},\"colorscale\":[[0.0,\"#0d0887\"],[0.1111111111111111,\"#46039f\"],[0.2222222222222222,\"#7201a8\"],[0.3333333333333333,\"#9c179e\"],[0.4444444444444444,\"#bd3786\"],[0.5555555555555556,\"#d8576b\"],[0.6666666666666666,\"#ed7953\"],[0.7777777777777778,\"#fb9f3a\"],[0.8888888888888888,\"#fdca26\"],[1.0,\"#f0f921\"]],\"type\":\"contour\"}],\"contourcarpet\":[{\"colorbar\":{\"outlinewidth\":0,\"ticks\":\"\"},\"type\":\"contourcarpet\"}],\"heatmap\":[{\"colorbar\":{\"outlinewidth\":0,\"ticks\":\"\"},\"colorscale\":[[0.0,\"#0d0887\"],[0.1111111111111111,\"#46039f\"],[0.2222222222222222,\"#7201a8\"],[0.3333333333333333,\"#9c179e\"],[0.4444444444444444,\"#bd3786\"],[0.5555555555555556,\"#d8576b\"],[0.6666666666666666,\"#ed7953\"],[0.7777777777777778,\"#fb9f3a\"],[0.8888888888888888,\"#fdca26\"],[1.0,\"#f0f921\"]],\"type\":\"heatmap\"}],\"heatmapgl\":[{\"colorbar\":{\"outlinewidth\":0,\"ticks\":\"\"},\"colorscale\":[[0.0,\"#0d0887\"],[0.1111111111111111,\"#46039f\"],[0.2222222222222222,\"#7201a8\"],[0.3333333333333333,\"#9c179e\"],[0.4444444444444444,\"#bd3786\"],[0.5555555555555556,\"#d8576b\"],[0.6666666666666666,\"#ed7953\"],[0.7777777777777778,\"#fb9f3a\"],[0.8888888888888888,\"#fdca26\"],[1.0,\"#f0f921\"]],\"type\":\"heatmapgl\"}],\"histogram\":[{\"marker\":{\"pattern\":{\"fillmode\":\"overlay\",\"size\":10,\"solidity\":0.2}},\"type\":\"histogram\"}],\"histogram2d\":[{\"colorbar\":{\"outlinewidth\":0,\"ticks\":\"\"},\"colorscale\":[[0.0,\"#0d0887\"],[0.1111111111111111,\"#46039f\"],[0.2222222222222222,\"#7201a8\"],[0.3333333333333333,\"#9c179e\"],[0.4444444444444444,\"#bd3786\"],[0.5555555555555556,\"#d8576b\"],[0.6666666666666666,\"#ed7953\"],[0.7777777777777778,\"#fb9f3a\"],[0.8888888888888888,\"#fdca26\"],[1.0,\"#f0f921\"]],\"type\":\"histogram2d\"}],\"histogram2dcontour\":[{\"colorbar\":{\"outlinewidth\":0,\"ticks\":\"\"},\"colorscale\":[[0.0,\"#0d0887\"],[0.1111111111111111,\"#46039f\"],[0.2222222222222222,\"#7201a8\"],[0.3333333333333333,\"#9c179e\"],[0.4444444444444444,\"#bd3786\"],[0.5555555555555556,\"#d8576b\"],[0.6666666666666666,\"#ed7953\"],[0.7777777777777778,\"#fb9f3a\"],[0.8888888888888888,\"#fdca26\"],[1.0,\"#f0f921\"]],\"type\":\"histogram2dcontour\"}],\"mesh3d\":[{\"colorbar\":{\"outlinewidth\":0,\"ticks\":\"\"},\"type\":\"mesh3d\"}],\"parcoords\":[{\"line\":{\"colorbar\":{\"outlinewidth\":0,\"ticks\":\"\"}},\"type\":\"parcoords\"}],\"pie\":[{\"automargin\":true,\"type\":\"pie\"}],\"scatter\":[{\"marker\":{\"colorbar\":{\"outlinewidth\":0,\"ticks\":\"\"}},\"type\":\"scatter\"}],\"scatter3d\":[{\"line\":{\"colorbar\":{\"outlinewidth\":0,\"ticks\":\"\"}},\"marker\":{\"colorbar\":{\"outlinewidth\":0,\"ticks\":\"\"}},\"type\":\"scatter3d\"}],\"scattercarpet\":[{\"marker\":{\"colorbar\":{\"outlinewidth\":0,\"ticks\":\"\"}},\"type\":\"scattercarpet\"}],\"scattergeo\":[{\"marker\":{\"colorbar\":{\"outlinewidth\":0,\"ticks\":\"\"}},\"type\":\"scattergeo\"}],\"scattergl\":[{\"marker\":{\"colorbar\":{\"outlinewidth\":0,\"ticks\":\"\"}},\"type\":\"scattergl\"}],\"scattermapbox\":[{\"marker\":{\"colorbar\":{\"outlinewidth\":0,\"ticks\":\"\"}},\"type\":\"scattermapbox\"}],\"scatterpolar\":[{\"marker\":{\"colorbar\":{\"outlinewidth\":0,\"ticks\":\"\"}},\"type\":\"scatterpolar\"}],\"scatterpolargl\":[{\"marker\":{\"colorbar\":{\"outlinewidth\":0,\"ticks\":\"\"}},\"type\":\"scatterpolargl\"}],\"scatterternary\":[{\"marker\":{\"colorbar\":{\"outlinewidth\":0,\"ticks\":\"\"}},\"type\":\"scatterternary\"}],\"surface\":[{\"colorbar\":{\"outlinewidth\":0,\"ticks\":\"\"},\"colorscale\":[[0.0,\"#0d0887\"],[0.1111111111111111,\"#46039f\"],[0.2222222222222222,\"#7201a8\"],[0.3333333333333333,\"#9c179e\"],[0.4444444444444444,\"#bd3786\"],[0.5555555555555556,\"#d8576b\"],[0.6666666666666666,\"#ed7953\"],[0.7777777777777778,\"#fb9f3a\"],[0.8888888888888888,\"#fdca26\"],[1.0,\"#f0f921\"]],\"type\":\"surface\"}],\"table\":[{\"cells\":{\"fill\":{\"color\":\"#EBF0F8\"},\"line\":{\"color\":\"white\"}},\"header\":{\"fill\":{\"color\":\"#C8D4E3\"},\"line\":{\"color\":\"white\"}},\"type\":\"table\"}]},\"layout\":{\"annotationdefaults\":{\"arrowcolor\":\"#2a3f5f\",\"arrowhead\":0,\"arrowwidth\":1},\"autotypenumbers\":\"strict\",\"coloraxis\":{\"colorbar\":{\"outlinewidth\":0,\"ticks\":\"\"}},\"colorscale\":{\"diverging\":[[0,\"#8e0152\"],[0.1,\"#c51b7d\"],[0.2,\"#de77ae\"],[0.3,\"#f1b6da\"],[0.4,\"#fde0ef\"],[0.5,\"#f7f7f7\"],[0.6,\"#e6f5d0\"],[0.7,\"#b8e186\"],[0.8,\"#7fbc41\"],[0.9,\"#4d9221\"],[1,\"#276419\"]],\"sequential\":[[0.0,\"#0d0887\"],[0.1111111111111111,\"#46039f\"],[0.2222222222222222,\"#7201a8\"],[0.3333333333333333,\"#9c179e\"],[0.4444444444444444,\"#bd3786\"],[0.5555555555555556,\"#d8576b\"],[0.6666666666666666,\"#ed7953\"],[0.7777777777777778,\"#fb9f3a\"],[0.8888888888888888,\"#fdca26\"],[1.0,\"#f0f921\"]],\"sequentialminus\":[[0.0,\"#0d0887\"],[0.1111111111111111,\"#46039f\"],[0.2222222222222222,\"#7201a8\"],[0.3333333333333333,\"#9c179e\"],[0.4444444444444444,\"#bd3786\"],[0.5555555555555556,\"#d8576b\"],[0.6666666666666666,\"#ed7953\"],[0.7777777777777778,\"#fb9f3a\"],[0.8888888888888888,\"#fdca26\"],[1.0,\"#f0f921\"]]},\"colorway\":[\"#636efa\",\"#EF553B\",\"#00cc96\",\"#ab63fa\",\"#FFA15A\",\"#19d3f3\",\"#FF6692\",\"#B6E880\",\"#FF97FF\",\"#FECB52\"],\"font\":{\"color\":\"#2a3f5f\"},\"geo\":{\"bgcolor\":\"white\",\"lakecolor\":\"white\",\"landcolor\":\"#E5ECF6\",\"showlakes\":true,\"showland\":true,\"subunitcolor\":\"white\"},\"hoverlabel\":{\"align\":\"left\"},\"hovermode\":\"closest\",\"mapbox\":{\"style\":\"light\"},\"paper_bgcolor\":\"white\",\"plot_bgcolor\":\"#E5ECF6\",\"polar\":{\"angularaxis\":{\"gridcolor\":\"white\",\"linecolor\":\"white\",\"ticks\":\"\"},\"bgcolor\":\"#E5ECF6\",\"radialaxis\":{\"gridcolor\":\"white\",\"linecolor\":\"white\",\"ticks\":\"\"}},\"scene\":{\"xaxis\":{\"backgroundcolor\":\"#E5ECF6\",\"gridcolor\":\"white\",\"gridwidth\":2,\"linecolor\":\"white\",\"showbackground\":true,\"ticks\":\"\",\"zerolinecolor\":\"white\"},\"yaxis\":{\"backgroundcolor\":\"#E5ECF6\",\"gridcolor\":\"white\",\"gridwidth\":2,\"linecolor\":\"white\",\"showbackground\":true,\"ticks\":\"\",\"zerolinecolor\":\"white\"},\"zaxis\":{\"backgroundcolor\":\"#E5ECF6\",\"gridcolor\":\"white\",\"gridwidth\":2,\"linecolor\":\"white\",\"showbackground\":true,\"ticks\":\"\",\"zerolinecolor\":\"white\"}},\"shapedefaults\":{\"line\":{\"color\":\"#2a3f5f\"}},\"ternary\":{\"aaxis\":{\"gridcolor\":\"white\",\"linecolor\":\"white\",\"ticks\":\"\"},\"baxis\":{\"gridcolor\":\"white\",\"linecolor\":\"white\",\"ticks\":\"\"},\"bgcolor\":\"#E5ECF6\",\"caxis\":{\"gridcolor\":\"white\",\"linecolor\":\"white\",\"ticks\":\"\"}},\"title\":{\"x\":0.05},\"xaxis\":{\"automargin\":true,\"gridcolor\":\"white\",\"linecolor\":\"white\",\"ticks\":\"\",\"title\":{\"standoff\":15},\"zerolinecolor\":\"white\",\"zerolinewidth\":2},\"yaxis\":{\"automargin\":true,\"gridcolor\":\"white\",\"linecolor\":\"white\",\"ticks\":\"\",\"title\":{\"standoff\":15},\"zerolinecolor\":\"white\",\"zerolinewidth\":2}}},\"xaxis\":{\"anchor\":\"y\",\"domain\":[0.0,1.0],\"title\":{\"text\":\"index\"}},\"yaxis\":{\"anchor\":\"x\",\"domain\":[0.0,1.0],\"title\":{\"text\":\"value\"}},\"legend\":{\"title\":{\"text\":\"variable\"},\"tracegroupgap\":0},\"margin\":{\"t\":20,\"l\":20,\"r\":100,\"b\":20,\"pad\":4},\"barmode\":\"relative\",\"autosize\":false,\"width\":800,\"height\":500,\"plot_bgcolor\":\"#FFFFFF\"},                        {\"responsive\": true}                    ).then(function(){\n",
       "                            \n",
       "var gd = document.getElementById('844217a2-b98b-4d8f-9008-f07ed94e02dc');\n",
       "var x = new MutationObserver(function (mutations, observer) {{\n",
       "        var display = window.getComputedStyle(gd).display;\n",
       "        if (!display || display === 'none') {{\n",
       "            console.log([gd, 'removed!']);\n",
       "            Plotly.purge(gd);\n",
       "            observer.disconnect();\n",
       "        }}\n",
       "}});\n",
       "\n",
       "// Listen for the removal of the full notebook cells\n",
       "var notebookContainer = gd.closest('#notebook-container');\n",
       "if (notebookContainer) {{\n",
       "    x.observe(notebookContainer, {childList: true});\n",
       "}}\n",
       "\n",
       "// Listen for the clearing of the current output cell\n",
       "var outputEl = gd.closest('.output');\n",
       "if (outputEl) {{\n",
       "    x.observe(outputEl, {childList: true});\n",
       "}}\n",
       "\n",
       "                        })                };                });            </script>        </div>"
      ]
     },
     "metadata": {},
     "output_type": "display_data"
    }
   ],
   "source": [
    "fig = px.bar(\n",
    "    factors.loc[:, factors.columns!='diff'].melt(id_vars=\"index\"),\n",
    "    x=\"index\",\n",
    "    y=\"value\",\n",
    "    color=\"variable\",\n",
    "    color_discrete_sequence=bruegel_colors,\n",
    ")\n",
    "fig.add_trace(\n",
    "    go.Scatter(\n",
    "        x= factors.loc[:, [\"index\",\"diff\"]].melt(id_vars=\"index\")[\"index\"],\n",
    "        y= factors.loc[:, [\"index\",\"diff\"]].melt(id_vars=\"index\")[\"value\"],\n",
    "        line=dict(color=\"#000000\")\n",
    "    ))\n",
    "\n",
    "fig.update_layout(\n",
    "    autosize=False,\n",
    "    width=800,\n",
    "    height=500,\n",
    "    margin=dict(\n",
    "        l=20,\n",
    "        r=100,\n",
    "        b=20,\n",
    "        t=20,\n",
    "        pad=4\n",
    "    ),\n",
    "    plot_bgcolor=\"#FFFFFF\"\n",
    "    #paper_bgcolor=\"LightSteelBlue\",\n",
    ")\n",
    "\n",
    "fig.show()\n",
    "fig.write_html(\"factors.html\")"
   ]
  },
  {
   "cell_type": "code",
   "execution_count": null,
   "id": "6f14c517-6c1c-4ef2-bb42-5b14f3ab488e",
   "metadata": {},
   "outputs": [],
   "source": []
  }
 ],
 "metadata": {
  "kernelspec": {
   "display_name": "Python 3 (ipykernel)",
   "language": "python",
   "name": "python3"
  },
  "language_info": {
   "codemirror_mode": {
    "name": "ipython",
    "version": 3
   },
   "file_extension": ".py",
   "mimetype": "text/x-python",
   "name": "python",
   "nbconvert_exporter": "python",
   "pygments_lexer": "ipython3",
   "version": "3.9.12"
  }
 },
 "nbformat": 4,
 "nbformat_minor": 5
}
